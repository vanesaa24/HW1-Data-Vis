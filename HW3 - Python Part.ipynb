{
 "cells": [
  {
   "cell_type": "code",
   "execution_count": 35,
   "id": "bf2e85a2",
   "metadata": {},
   "outputs": [],
   "source": [
    "import numpy as np\n",
    "import pandas as pd\n",
    "import seaborn as sns\n",
    "import matplotlib as plt"
   ]
  },
  {
   "cell_type": "code",
   "execution_count": 36,
   "id": "83475e9d",
   "metadata": {},
   "outputs": [],
   "source": [
    "mobiles_dataset = pd.read_csv(\"mobiles_dataset.csv\")"
   ]
  },
  {
   "cell_type": "code",
   "execution_count": 37,
   "id": "d65e89ea",
   "metadata": {},
   "outputs": [],
   "source": [
    "mobiles_dataset['Launched.Price.Pakistan.PKR'] = mobiles_dataset['Launched.Price.Pakistan.PKR'] * 0.0036\n",
    "mobiles_dataset['Launched.Price.India.INR'] = mobiles_dataset['Launched.Price.India.INR'] * 0.011\n",
    "mobiles_dataset['Launched.Price.China.CNY'] = mobiles_dataset['Launched.Price.China.CNY'] * 0.14\n",
    "mobiles_dataset['Launched.Price.Dubai.AED'] = mobiles_dataset['Launched.Price.Dubai.AED'] * 0.27"
   ]
  },
  {
   "cell_type": "code",
   "execution_count": 38,
   "id": "11388c80",
   "metadata": {},
   "outputs": [],
   "source": [
    "def transform_dataframe(mobiles_dataset):\n",
    "    id_vars = [col for col in mobiles_dataset.columns if not col.startswith(\"Launched.Price.\")]\n",
    "    value_vars = [col for col in mobiles_dataset.columns if col.startswith(\"Launched.Price.\")]\n",
    "\n",
    "    Mobile1 = pd.melt(mobiles_dataset, id_vars=id_vars, value_vars=value_vars,\n",
    "                        var_name=\"Country\", value_name=\"Price\")\n",
    "    Mobile1['Country'] = Mobile1['Country'].str.replace(\"Launched.Price_\", \"\")\n",
    "    Mobile1['Country'] = Mobile1['Country'].str.extract(r\"(China|Dubai|India|Pakistan|USA)\\.[A-Z]{3}\")\n",
    "\n",
    "    return Mobile1\n",
    "Mobile1 = transform_dataframe(mobiles_dataset)"
   ]
  },
  {
   "cell_type": "code",
   "execution_count": 39,
   "id": "2615a382",
   "metadata": {},
   "outputs": [
    {
     "name": "stdout",
     "output_type": "stream",
     "text": [
      "     Company.Name            Model.Name Mobile.Weight   RAM     Front.Camera  \\\n",
      "0           Apple       iPhone 16 128GB          174g   6GB             12MP   \n",
      "1           Apple       iPhone 16 256GB          174g   6GB             12MP   \n",
      "2           Apple       iPhone 16 512GB          174g   6GB             12MP   \n",
      "3           Apple  iPhone 16 Plus 128GB          203g   6GB             12MP   \n",
      "4           Apple  iPhone 16 Plus 256GB          203g   6GB             12MP   \n",
      "...           ...                   ...           ...   ...              ...   \n",
      "4620         POCO           M7 5G 128GB          198g   6GB              8MP   \n",
      "4621         Poco          Pad 5G 128GB          571g   8GB              8MP   \n",
      "4622         Poco          Pad 5G 256GB          571g   8GB              8MP   \n",
      "4623      Samsung  Galaxy Z Fold6 256GB          239g  12GB  10MP, 4MP (UDC)   \n",
      "4624      Samsung  Galaxy Z Fold6 512GB          239g  12GB  10MP, 4MP (UDC)   \n",
      "\n",
      "     Back.Camera                Processor  Battery.Capacity.mAh  \\\n",
      "0           48MP               A17 Bionic                  3600   \n",
      "1           48MP               A17 Bionic                  3600   \n",
      "2           48MP               A17 Bionic                  3600   \n",
      "3           48MP               A17 Bionic                  4200   \n",
      "4           48MP               A17 Bionic                  4200   \n",
      "...          ...                      ...                   ...   \n",
      "4620        50MP  MediaTek Dimensity 7025                  5110   \n",
      "4621         8MP      Snapdragon 7s Gen 2                 10000   \n",
      "4622         8MP      Snapdragon 7s Gen 2                 10000   \n",
      "4623        50MP       Snapdragon 8 Gen 3                  4400   \n",
      "4624        50MP       Snapdragon 8 Gen 3                  4400   \n",
      "\n",
      "      Screen.Size.inches  Launched.Year   Country      Price  \n",
      "0                   6.10           2024  Pakistan   809.9964  \n",
      "1                   6.10           2024  Pakistan   845.9964  \n",
      "2                   6.10           2024  Pakistan   881.9964  \n",
      "3                   6.70           2024  Pakistan   899.9964  \n",
      "4                   6.70           2024  Pakistan   935.9964  \n",
      "...                  ...            ...       ...        ...  \n",
      "4620                6.67           2024     Dubai   242.7300  \n",
      "4621               12.10           2024     Dubai   277.8300  \n",
      "4622               12.10           2024     Dubai   296.7300  \n",
      "4623                7.60           2024     Dubai  1943.7300  \n",
      "4624                7.60           2024     Dubai  2078.7300  \n",
      "\n",
      "[4625 rows x 12 columns]\n"
     ]
    }
   ],
   "source": [
    "print(Mobile1)"
   ]
  },
  {
   "cell_type": "markdown",
   "id": "147f1133",
   "metadata": {},
   "source": [
    "# Part 1.\n",
    "## 1)"
   ]
  },
  {
   "cell_type": "code",
   "execution_count": 40,
   "id": "1403ab2c",
   "metadata": {},
   "outputs": [],
   "source": [
    "Mobile1_1 = Mobile1.groupby(['Country', 'Battery.Capacity.mAh']).agg(\n",
    "    Std_of_Price=('Price', 'std')\n",
    ").reset_index()"
   ]
  },
  {
   "cell_type": "code",
   "execution_count": 41,
   "id": "9ad0a0de",
   "metadata": {},
   "outputs": [
    {
     "ename": "KeyError",
     "evalue": "'Std_of_Price'",
     "output_type": "error",
     "traceback": [
      "\u001b[1;31m---------------------------------------------------------------------------\u001b[0m",
      "\u001b[1;31mKeyError\u001b[0m                                  Traceback (most recent call last)",
      "File \u001b[1;32m~\\Anaconda\\Lib\\site-packages\\pandas\\core\\indexes\\base.py:3791\u001b[0m, in \u001b[0;36mIndex.get_loc\u001b[1;34m(self, key)\u001b[0m\n\u001b[0;32m   3790\u001b[0m \u001b[38;5;28;01mtry\u001b[39;00m:\n\u001b[1;32m-> 3791\u001b[0m     \u001b[38;5;28;01mreturn\u001b[39;00m \u001b[38;5;28mself\u001b[39m\u001b[38;5;241m.\u001b[39m_engine\u001b[38;5;241m.\u001b[39mget_loc(casted_key)\n\u001b[0;32m   3792\u001b[0m \u001b[38;5;28;01mexcept\u001b[39;00m \u001b[38;5;167;01mKeyError\u001b[39;00m \u001b[38;5;28;01mas\u001b[39;00m err:\n",
      "File \u001b[1;32mindex.pyx:152\u001b[0m, in \u001b[0;36mpandas._libs.index.IndexEngine.get_loc\u001b[1;34m()\u001b[0m\n",
      "File \u001b[1;32mindex.pyx:181\u001b[0m, in \u001b[0;36mpandas._libs.index.IndexEngine.get_loc\u001b[1;34m()\u001b[0m\n",
      "File \u001b[1;32mpandas\\_libs\\hashtable_class_helper.pxi:7080\u001b[0m, in \u001b[0;36mpandas._libs.hashtable.PyObjectHashTable.get_item\u001b[1;34m()\u001b[0m\n",
      "File \u001b[1;32mpandas\\_libs\\hashtable_class_helper.pxi:7088\u001b[0m, in \u001b[0;36mpandas._libs.hashtable.PyObjectHashTable.get_item\u001b[1;34m()\u001b[0m\n",
      "\u001b[1;31mKeyError\u001b[0m: 'Std_of_Price'",
      "\nThe above exception was the direct cause of the following exception:\n",
      "\u001b[1;31mKeyError\u001b[0m                                  Traceback (most recent call last)",
      "Cell \u001b[1;32mIn[41], line 1\u001b[0m\n\u001b[1;32m----> 1\u001b[0m Mobile1[\u001b[38;5;124m'\u001b[39m\u001b[38;5;124mStd_of_Price\u001b[39m\u001b[38;5;124m'\u001b[39m] \u001b[38;5;241m=\u001b[39m pd\u001b[38;5;241m.\u001b[39mto_numeric(Mobile1[\u001b[38;5;124m'\u001b[39m\u001b[38;5;124mStd_of_Price\u001b[39m\u001b[38;5;124m'\u001b[39m], errors\u001b[38;5;241m=\u001b[39m\u001b[38;5;124m'\u001b[39m\u001b[38;5;124mcoerce\u001b[39m\u001b[38;5;124m'\u001b[39m)\n\u001b[0;32m      2\u001b[0m Mobile1 \u001b[38;5;241m=\u001b[39m Mobile1\u001b[38;5;241m.\u001b[39mdropna(subset\u001b[38;5;241m=\u001b[39m[\u001b[38;5;124m'\u001b[39m\u001b[38;5;124mStd_of_Price\u001b[39m\u001b[38;5;124m'\u001b[39m])\n",
      "File \u001b[1;32m~\\Anaconda\\Lib\\site-packages\\pandas\\core\\frame.py:3893\u001b[0m, in \u001b[0;36mDataFrame.__getitem__\u001b[1;34m(self, key)\u001b[0m\n\u001b[0;32m   3891\u001b[0m \u001b[38;5;28;01mif\u001b[39;00m \u001b[38;5;28mself\u001b[39m\u001b[38;5;241m.\u001b[39mcolumns\u001b[38;5;241m.\u001b[39mnlevels \u001b[38;5;241m>\u001b[39m \u001b[38;5;241m1\u001b[39m:\n\u001b[0;32m   3892\u001b[0m     \u001b[38;5;28;01mreturn\u001b[39;00m \u001b[38;5;28mself\u001b[39m\u001b[38;5;241m.\u001b[39m_getitem_multilevel(key)\n\u001b[1;32m-> 3893\u001b[0m indexer \u001b[38;5;241m=\u001b[39m \u001b[38;5;28mself\u001b[39m\u001b[38;5;241m.\u001b[39mcolumns\u001b[38;5;241m.\u001b[39mget_loc(key)\n\u001b[0;32m   3894\u001b[0m \u001b[38;5;28;01mif\u001b[39;00m is_integer(indexer):\n\u001b[0;32m   3895\u001b[0m     indexer \u001b[38;5;241m=\u001b[39m [indexer]\n",
      "File \u001b[1;32m~\\Anaconda\\Lib\\site-packages\\pandas\\core\\indexes\\base.py:3798\u001b[0m, in \u001b[0;36mIndex.get_loc\u001b[1;34m(self, key)\u001b[0m\n\u001b[0;32m   3793\u001b[0m     \u001b[38;5;28;01mif\u001b[39;00m \u001b[38;5;28misinstance\u001b[39m(casted_key, \u001b[38;5;28mslice\u001b[39m) \u001b[38;5;129;01mor\u001b[39;00m (\n\u001b[0;32m   3794\u001b[0m         \u001b[38;5;28misinstance\u001b[39m(casted_key, abc\u001b[38;5;241m.\u001b[39mIterable)\n\u001b[0;32m   3795\u001b[0m         \u001b[38;5;129;01mand\u001b[39;00m \u001b[38;5;28many\u001b[39m(\u001b[38;5;28misinstance\u001b[39m(x, \u001b[38;5;28mslice\u001b[39m) \u001b[38;5;28;01mfor\u001b[39;00m x \u001b[38;5;129;01min\u001b[39;00m casted_key)\n\u001b[0;32m   3796\u001b[0m     ):\n\u001b[0;32m   3797\u001b[0m         \u001b[38;5;28;01mraise\u001b[39;00m InvalidIndexError(key)\n\u001b[1;32m-> 3798\u001b[0m     \u001b[38;5;28;01mraise\u001b[39;00m \u001b[38;5;167;01mKeyError\u001b[39;00m(key) \u001b[38;5;28;01mfrom\u001b[39;00m \u001b[38;5;21;01merr\u001b[39;00m\n\u001b[0;32m   3799\u001b[0m \u001b[38;5;28;01mexcept\u001b[39;00m \u001b[38;5;167;01mTypeError\u001b[39;00m:\n\u001b[0;32m   3800\u001b[0m     \u001b[38;5;66;03m# If we have a listlike key, _check_indexing_error will raise\u001b[39;00m\n\u001b[0;32m   3801\u001b[0m     \u001b[38;5;66;03m#  InvalidIndexError. Otherwise we fall through and re-raise\u001b[39;00m\n\u001b[0;32m   3802\u001b[0m     \u001b[38;5;66;03m#  the TypeError.\u001b[39;00m\n\u001b[0;32m   3803\u001b[0m     \u001b[38;5;28mself\u001b[39m\u001b[38;5;241m.\u001b[39m_check_indexing_error(key)\n",
      "\u001b[1;31mKeyError\u001b[0m: 'Std_of_Price'"
     ]
    }
   ],
   "source": [
    "Mobile1['Std_of_Price'] = pd.to_numeric(Mobile1['Std_of_Price'], errors='coerce')\n",
    "Mobile1 = Mobile1.dropna(subset=['Std_of_Price'])"
   ]
  },
  {
   "cell_type": "code",
   "execution_count": 42,
   "id": "233e799e",
   "metadata": {},
   "outputs": [
    {
     "ename": "TypeError",
     "evalue": "'module' object is not callable",
     "output_type": "error",
     "traceback": [
      "\u001b[1;31m---------------------------------------------------------------------------\u001b[0m",
      "\u001b[1;31mTypeError\u001b[0m                                 Traceback (most recent call last)",
      "Cell \u001b[1;32mIn[42], line 1\u001b[0m\n\u001b[1;32m----> 1\u001b[0m plt\u001b[38;5;241m.\u001b[39mfigure(figsize\u001b[38;5;241m=\u001b[39m(\u001b[38;5;241m8\u001b[39m, \u001b[38;5;241m6\u001b[39m))\n\u001b[0;32m      2\u001b[0m plt\u001b[38;5;241m.\u001b[39mbar(categories, values)\n\u001b[0;32m      3\u001b[0m plt\u001b[38;5;241m.\u001b[39mxlabel(\u001b[38;5;124m'\u001b[39m\u001b[38;5;124mCategories\u001b[39m\u001b[38;5;124m'\u001b[39m)\n",
      "\u001b[1;31mTypeError\u001b[0m: 'module' object is not callable"
     ]
    }
   ],
   "source": [
    "plt.figure(figsize=(8, 6))\n",
    "plt.bar(categories, values)\n",
    "plt.xlabel('Categories')\n",
    "plt.ylabel('Values')\n",
    "plt.title('Bar Chart Example (Matplotlib)')\n",
    "plt.show()"
   ]
  },
  {
   "cell_type": "code",
   "execution_count": null,
   "id": "47e6b486",
   "metadata": {},
   "outputs": [],
   "source": []
  },
  {
   "cell_type": "code",
   "execution_count": null,
   "id": "108b59c7",
   "metadata": {},
   "outputs": [],
   "source": []
  }
 ],
 "metadata": {
  "kernelspec": {
   "display_name": "Python 3 (ipykernel)",
   "language": "python",
   "name": "python3"
  },
  "language_info": {
   "codemirror_mode": {
    "name": "ipython",
    "version": 3
   },
   "file_extension": ".py",
   "mimetype": "text/x-python",
   "name": "python",
   "nbconvert_exporter": "python",
   "pygments_lexer": "ipython3",
   "version": "3.11.7"
  }
 },
 "nbformat": 4,
 "nbformat_minor": 5
}
